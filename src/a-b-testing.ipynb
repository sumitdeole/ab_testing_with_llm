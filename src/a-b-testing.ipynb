{
 "cells": [
  {
   "cell_type": "markdown",
   "id": "3bfd6a89",
   "metadata": {},
   "source": [
    "## E-commerce A/B Testing Dataset\n",
    "\n",
    "**Source:** [Kaggle - E-commerce A/B testing dataset](https://www.kaggle.com/datasets/ahmedmohameddawoud/ecommerce-ab-testing)\n",
    "\n",
    "**Problem Statement:** Does the new landing page increase purchase conversion rates while maintaining revenue quality?\n",
    "- **Metric:** Conversion rate (purchases/revenue)\n",
    "- **Secondary metrics:** Revenue per user, session duration\n",
    "- **Treatment:** New landing page \n",
    "- **Control:** Existing landing page\n",
    "\n",
    "\n",
    "#### 1. IMPORT LIBRARIES AND LOAD DATA"
   ]
  },
  {
   "cell_type": "code",
   "execution_count": 1,
   "id": "8b1ed752",
   "metadata": {},
   "outputs": [],
   "source": [
    "import pandas as pd\n",
    "import numpy as np\n",
    "import matplotlib.pyplot as plt\n",
    "import seaborn as sns\n",
    "from scipy import stats\n",
    "from scipy.stats import chi2_contingency, chi2\n",
    "import warnings\n",
    "import os\n",
    "import ollama\n",
    "from fpdf import FPDF\n",
    "import markdown\n",
    "import tempfile\n",
    "import html\n",
    "warnings.filterwarnings('ignore')\n",
    "\n",
    "# Create directories for saving outputs\n",
    "os.chdir(\"../\") \n",
    "os.makedirs('plots', exist_ok=True)\n",
    "os.makedirs('results', exist_ok=True)"
   ]
  },
  {
   "cell_type": "code",
   "execution_count": 2,
   "id": "42393944",
   "metadata": {},
   "outputs": [
    {
     "data": {
      "application/vnd.microsoft.datawrangler.viewer.v0+json": {
       "columns": [
        {
         "name": "index",
         "rawType": "int64",
         "type": "integer"
        },
        {
         "name": "id",
         "rawType": "int64",
         "type": "integer"
        },
        {
         "name": "time",
         "rawType": "object",
         "type": "string"
        },
        {
         "name": "con_treat",
         "rawType": "object",
         "type": "string"
        },
        {
         "name": "page",
         "rawType": "object",
         "type": "string"
        },
        {
         "name": "converted",
         "rawType": "int64",
         "type": "integer"
        }
       ],
       "ref": "87952677-7a61-45c9-bba5-e081a135bc1f",
       "rows": [
        [
         "0",
         "851104",
         "11:48.6",
         "control",
         "old_page",
         "0"
        ],
        [
         "1",
         "804228",
         "01:45.2",
         "control",
         "old_page",
         "0"
        ],
        [
         "2",
         "661590",
         "55:06.2",
         "treatment",
         "new_page",
         "0"
        ],
        [
         "3",
         "853541",
         "28:03.1",
         "treatment",
         "new_page",
         "0"
        ],
        [
         "4",
         "864975",
         "52:26.2",
         "control",
         "old_page",
         "1"
        ]
       ],
       "shape": {
        "columns": 5,
        "rows": 5
       }
      },
      "text/html": [
       "<div>\n",
       "<style scoped>\n",
       "    .dataframe tbody tr th:only-of-type {\n",
       "        vertical-align: middle;\n",
       "    }\n",
       "\n",
       "    .dataframe tbody tr th {\n",
       "        vertical-align: top;\n",
       "    }\n",
       "\n",
       "    .dataframe thead th {\n",
       "        text-align: right;\n",
       "    }\n",
       "</style>\n",
       "<table border=\"1\" class=\"dataframe\">\n",
       "  <thead>\n",
       "    <tr style=\"text-align: right;\">\n",
       "      <th></th>\n",
       "      <th>id</th>\n",
       "      <th>time</th>\n",
       "      <th>con_treat</th>\n",
       "      <th>page</th>\n",
       "      <th>converted</th>\n",
       "    </tr>\n",
       "  </thead>\n",
       "  <tbody>\n",
       "    <tr>\n",
       "      <th>0</th>\n",
       "      <td>851104</td>\n",
       "      <td>11:48.6</td>\n",
       "      <td>control</td>\n",
       "      <td>old_page</td>\n",
       "      <td>0</td>\n",
       "    </tr>\n",
       "    <tr>\n",
       "      <th>1</th>\n",
       "      <td>804228</td>\n",
       "      <td>01:45.2</td>\n",
       "      <td>control</td>\n",
       "      <td>old_page</td>\n",
       "      <td>0</td>\n",
       "    </tr>\n",
       "    <tr>\n",
       "      <th>2</th>\n",
       "      <td>661590</td>\n",
       "      <td>55:06.2</td>\n",
       "      <td>treatment</td>\n",
       "      <td>new_page</td>\n",
       "      <td>0</td>\n",
       "    </tr>\n",
       "    <tr>\n",
       "      <th>3</th>\n",
       "      <td>853541</td>\n",
       "      <td>28:03.1</td>\n",
       "      <td>treatment</td>\n",
       "      <td>new_page</td>\n",
       "      <td>0</td>\n",
       "    </tr>\n",
       "    <tr>\n",
       "      <th>4</th>\n",
       "      <td>864975</td>\n",
       "      <td>52:26.2</td>\n",
       "      <td>control</td>\n",
       "      <td>old_page</td>\n",
       "      <td>1</td>\n",
       "    </tr>\n",
       "  </tbody>\n",
       "</table>\n",
       "</div>"
      ],
      "text/plain": [
       "       id     time  con_treat      page  converted\n",
       "0  851104  11:48.6    control  old_page          0\n",
       "1  804228  01:45.2    control  old_page          0\n",
       "2  661590  55:06.2  treatment  new_page          0\n",
       "3  853541  28:03.1  treatment  new_page          0\n",
       "4  864975  52:26.2    control  old_page          1"
      ]
     },
     "execution_count": 2,
     "metadata": {},
     "output_type": "execute_result"
    }
   ],
   "source": [
    "# Load and examine the data\n",
    "df = pd.read_csv('data/ab_test.csv')\n",
    "df.head()"
   ]
  },
  {
   "cell_type": "markdown",
   "id": "c2ba1e1b",
   "metadata": {},
   "source": [
    "#### 2. EDA AND DATA CLEANING"
   ]
  },
  {
   "cell_type": "code",
   "execution_count": 3,
   "id": "5e6cb167",
   "metadata": {},
   "outputs": [
    {
     "name": "stdout",
     "output_type": "stream",
     "text": [
      "Dataset shape: (294478, 5)\n",
      "Data types:\n",
      "id            int64\n",
      "time         object\n",
      "con_treat    object\n",
      "page         object\n",
      "converted     int64\n",
      "dtype: object\n",
      "Missing values:\n",
      "id           0\n",
      "time         0\n",
      "con_treat    0\n",
      "page         0\n",
      "converted    0\n",
      "dtype: int64\n"
     ]
    }
   ],
   "source": [
    "print(f\"Dataset shape: {df.shape}\")\n",
    "print(f\"Data types:\\n{df.dtypes}\")\n",
    "print(f\"Missing values:\\n{df.isnull().sum()}\")"
   ]
  },
  {
   "cell_type": "code",
   "execution_count": 4,
   "id": "f2d5b65e",
   "metadata": {},
   "outputs": [
    {
     "name": "stdout",
     "output_type": "stream",
     "text": [
      "\n",
      "Assignment Consistency Check:\n",
      "page       new_page  old_page\n",
      "con_treat                    \n",
      "control        1928    145274\n",
      "treatment    145311      1965\n"
     ]
    }
   ],
   "source": [
    "# Check assignment consistency\n",
    "assignment_check = pd.crosstab(df['con_treat'], df['page'])\n",
    "print(\"\\nAssignment Consistency Check:\")\n",
    "print(assignment_check)"
   ]
  },
  {
   "cell_type": "code",
   "execution_count": 5,
   "id": "05cbe4b0",
   "metadata": {},
   "outputs": [
    {
     "name": "stdout",
     "output_type": "stream",
     "text": [
      "\n",
      "Mismatched assignments removed: 1.32% of total data\n"
     ]
    }
   ],
   "source": [
    "# Remove mismatches\n",
    "clean_data = df.query('(con_treat == \"control\" & page == \"old_page\") | (con_treat == \"treatment\" & page == \"new_page\")')\n",
    "mismatch_percentage = (1 - clean_data.shape[0]/df.shape[0]) * 100\n",
    "print(f\"\\nMismatched assignments removed: {mismatch_percentage:.2f}% of total data\")"
   ]
  },
  {
   "cell_type": "code",
   "execution_count": 6,
   "id": "ffb7896c",
   "metadata": {},
   "outputs": [
    {
     "name": "stdout",
     "output_type": "stream",
     "text": [
      "\n",
      "Duplicate users found: 1\n"
     ]
    }
   ],
   "source": [
    "duplicate_users = clean_data[clean_data.duplicated('id', keep=False)]\n",
    "print(f\"\\nDuplicate users found: {duplicate_users['id'].nunique()}\")\n",
    "clean_data = clean_data.drop_duplicates(subset='id', keep='first')"
   ]
  },
  {
   "cell_type": "code",
   "execution_count": 7,
   "id": "4ee99e51",
   "metadata": {},
   "outputs": [
    {
     "name": "stdout",
     "output_type": "stream",
     "text": [
      "\n",
      "Cleaned Data Overview:\n",
      "Initial dataset shape: (294478, 5)\n",
      "Final dataset shape: (290584, 5)\n",
      "Unique users: 290584\n"
     ]
    }
   ],
   "source": [
    "# Final dataset info\n",
    "print(\"\\nCleaned Data Overview:\")\n",
    "print(f\"Initial dataset shape: {df.shape}\")\n",
    "print(f\"Final dataset shape: {clean_data.shape}\")\n",
    "print(f\"Unique users: {clean_data['id'].nunique()}\")"
   ]
  },
  {
   "cell_type": "code",
   "execution_count": 8,
   "id": "ce404635",
   "metadata": {},
   "outputs": [],
   "source": [
    "df = clean_data.copy()\n",
    "with open('results/data_quality_report.txt', 'w') as f:\n",
    "    f.write(\"=== DATA QUALITY REPORT ===\\n\")\n",
    "    f.write(f\"Dataset shape: {df.shape}\\n\")\n",
    "    f.write(f\"Missing values:\\n{df.isnull().sum()}\\n\")\n",
    "    f.write(f\"Duplicate rows: {df.duplicated().sum()}\\n\")"
   ]
  },
  {
   "cell_type": "code",
   "execution_count": 9,
   "id": "0c0fabdd",
   "metadata": {},
   "outputs": [],
   "source": [
    "# Convert 'time' from string to total seconds (duration data)\n",
    "def time_to_seconds(time_str):\n",
    "    minutes, seconds = time_str.split(':')\n",
    "    return float(minutes) * 60 + float(seconds)\n",
    "\n",
    "df['time_seconds'] = df['time'].apply(time_to_seconds)"
   ]
  },
  {
   "cell_type": "code",
   "execution_count": 10,
   "id": "0a5236ee",
   "metadata": {},
   "outputs": [
    {
     "name": "stdout",
     "output_type": "stream",
     "text": [
      "\n",
      "=== TIME DURATION ANALYSIS ===\n",
      "Session duration statistics by group:\n",
      "              count         mean          std  min      25%     50%     75%  \\\n",
      "con_treat                                                                     \n",
      "control    145274.0  1804.925762  1036.966970  0.0  908.600  1803.6  2703.1   \n",
      "treatment  145310.0  1801.512335  1039.092982  0.0  901.625  1803.6  2700.1   \n",
      "\n",
      "              max  \n",
      "con_treat          \n",
      "control    3599.9  \n",
      "treatment  3599.9  \n"
     ]
    }
   ],
   "source": [
    "# Create time bins for analysis\n",
    "df['time_bin'] = pd.cut(df['time_seconds'], bins=10, labels=[f'Bin_{i}' for i in range(10)])\n",
    "\n",
    "# Time-based analysis (using session duration bins)\n",
    "print(f\"\\n=== TIME DURATION ANALYSIS ===\")\n",
    "time_stats = df.groupby('con_treat')['time_seconds'].describe()\n",
    "print(f\"Session duration statistics by group:\")\n",
    "print(time_stats)\n",
    "\n",
    "# Save time stats\n",
    "time_stats.to_csv('results/session_duration_stats.csv')"
   ]
  },
  {
   "cell_type": "code",
   "execution_count": 11,
   "id": "97c08657",
   "metadata": {},
   "outputs": [],
   "source": [
    "# Create binary treatment indicator (0 = control, 1 = treatment)\n",
    "df['treatment'] = (df['con_treat'] == 'treatment').astype(int)"
   ]
  },
  {
   "cell_type": "code",
   "execution_count": 12,
   "id": "efd01b92",
   "metadata": {},
   "outputs": [
    {
     "name": "stdout",
     "output_type": "stream",
     "text": [
      "\n",
      "=== BASIC STATISTICS ===\n",
      "                  id      converted   time_seconds      treatment\n",
      "count  290584.000000  290584.000000  290584.000000  290584.000000\n",
      "mean   788004.876222       0.119597    1803.218837       0.500062\n",
      "std     91224.735468       0.324490    1038.030269       0.500001\n",
      "min    630000.000000       0.000000       0.000000       0.000000\n",
      "25%    709034.750000       0.000000     905.300000       0.000000\n",
      "50%    787995.500000       0.000000    1803.600000       1.000000\n",
      "75%    866956.250000       0.000000    2701.600000       1.000000\n",
      "max    945999.000000       1.000000    3599.900000       1.000000\n"
     ]
    }
   ],
   "source": [
    "print(f\"\\n=== BASIC STATISTICS ===\")\n",
    "print(df.describe())\n",
    "\n",
    "# Save basic statistics\n",
    "df.describe().to_csv('results/basic_statistics.csv')"
   ]
  },
  {
   "cell_type": "code",
   "execution_count": 13,
   "id": "2c23b622",
   "metadata": {},
   "outputs": [
    {
     "name": "stdout",
     "output_type": "stream",
     "text": [
      "\n",
      "=== TREATMENT ALLOCATION ===\n",
      "con_treat\n",
      "treatment    145310\n",
      "control      145274\n",
      "Name: count, dtype: int64\n",
      "Treatment split: 50.01% treatment, 49.99% control\n",
      "\n",
      "=== CONVERSION RATES BY GROUP ===\n",
      "            count    sum      mean  conversion_rate\n",
      "con_treat                                          \n",
      "control    145274  17489  0.120386         0.120386\n",
      "treatment  145310  17264  0.118808         0.118808\n"
     ]
    }
   ],
   "source": [
    "# Treatment distribution\n",
    "print(f\"\\n=== TREATMENT ALLOCATION ===\")\n",
    "treatment_counts = df['con_treat'].value_counts()\n",
    "print(treatment_counts)\n",
    "print(f\"Treatment split: {treatment_counts['treatment']/len(df)*100:.2f}% treatment, {treatment_counts['control']/len(df)*100:.2f}% control\")\n",
    "\n",
    "# Conversion rates by group\n",
    "print(f\"\\n=== CONVERSION RATES BY GROUP ===\")\n",
    "conversion_by_group = df.groupby('con_treat')['converted'].agg(['count', 'sum', 'mean'])\n",
    "conversion_by_group['conversion_rate'] = conversion_by_group['mean']\n",
    "print(conversion_by_group)\n",
    "\n",
    "# Save conversion rates\n",
    "conversion_by_group.to_csv('results/conversion_rates_by_group.csv')"
   ]
  },
  {
   "cell_type": "code",
   "execution_count": 14,
   "id": "9a03a660",
   "metadata": {},
   "outputs": [
    {
     "name": "stdout",
     "output_type": "stream",
     "text": [
      "\n",
      "Session duration vs conversion correlation:\n",
      "Correlation: -0.0009\n",
      "\n",
      "Conversion rates by session duration bins:\n",
      "con_treat   control  treatment\n",
      "time_bin                      \n",
      "Bin_0      0.123488   0.118057\n",
      "Bin_1      0.122601   0.119867\n",
      "Bin_2      0.119369   0.112162\n",
      "Bin_3      0.120868   0.120499\n",
      "Bin_4      0.118927   0.118698\n",
      "Bin_5      0.119915   0.123630\n",
      "Bin_6      0.119082   0.120538\n",
      "Bin_7      0.122314   0.119314\n",
      "Bin_8      0.117131   0.115106\n",
      "Bin_9      0.120223   0.120140\n"
     ]
    }
   ],
   "source": [
    "# Check if session duration affects conversion\n",
    "print(f\"\\nSession duration vs conversion correlation:\")\n",
    "duration_conversion_corr = df['time_seconds'].corr(df['converted'])\n",
    "print(f\"Correlation: {duration_conversion_corr:.4f}\")\n",
    "\n",
    "# Save correlation\n",
    "with open('results/duration_conversion_correlation.txt', 'w') as f:\n",
    "    f.write(f\"Correlation: {duration_conversion_corr:.4f}\\n\")\n",
    "\n",
    "# Analyze conversion by time bins\n",
    "time_bin_analysis = df.groupby(['time_bin', 'con_treat'])['converted'].mean().unstack()\n",
    "print(f\"\\nConversion rates by session duration bins:\")\n",
    "print(time_bin_analysis)\n",
    "\n",
    "# Save time bin analysis\n",
    "time_bin_analysis.to_csv('results/conversion_by_time_bin.csv')"
   ]
  },
  {
   "cell_type": "markdown",
   "id": "435ec9fb",
   "metadata": {},
   "source": [
    "#### 3. BIAS DETECTION & ASSUMPTION VALIDATION"
   ]
  },
  {
   "cell_type": "code",
   "execution_count": 15,
   "id": "ca6ca065",
   "metadata": {},
   "outputs": [
    {
     "name": "stdout",
     "output_type": "stream",
     "text": [
      "Sample Ratio Mismatch Test:\n",
      "  Observed Control: 145274 (Expected: 145292)\n",
      "  Observed Treatment: 145310 (Expected: 145292)\n",
      "  Chi-square statistic: 0.0045\n",
      "  P-value: 0.9468\n",
      "  Result: ✅ No SRM\n"
     ]
    }
   ],
   "source": [
    "def check_sample_ratio_mismatch(df, treatment_col='treatment', expected_ratio=0.5, alpha=0.05):\n",
    "    \"\"\"Test for Sample Ratio Mismatch (SRM)\"\"\"\n",
    "    observed = df[treatment_col].value_counts().sort_index()\n",
    "    total = len(df)\n",
    "    expected_control = total * (1 - expected_ratio)\n",
    "    expected_treatment = total * expected_ratio\n",
    "    \n",
    "    # Chi-square test\n",
    "    chi2_stat = ((observed[0] - expected_control)**2 / expected_control + \n",
    "                 (observed[1] - expected_treatment)**2 / expected_treatment)\n",
    "    p_value = 1 - chi2.cdf(chi2_stat, df=1)\n",
    "    \n",
    "    print(f\"Sample Ratio Mismatch Test:\")\n",
    "    print(f\"  Observed Control: {observed[0]} (Expected: {expected_control:.0f})\")\n",
    "    print(f\"  Observed Treatment: {observed[1]} (Expected: {expected_treatment:.0f})\")\n",
    "    print(f\"  Chi-square statistic: {chi2_stat:.4f}\")\n",
    "    print(f\"  P-value: {p_value:.4f}\")\n",
    "    print(f\"  Result: {'❌ SRM Detected' if p_value < alpha else '✅ No SRM'}\")\n",
    "    \n",
    "    return chi2_stat, p_value\n",
    "\n",
    "# Check for SRM\n",
    "srm_stat, srm_p = check_sample_ratio_mismatch(df)\n",
    "\n",
    "# Save SRM results\n",
    "with open('results/srm_results.txt', 'w') as f:\n",
    "    f.write(f\"SRM p-value: {srm_p:.6f}\\n\")\n",
    "    f.write(f\"SRM detected: {'Yes' if srm_p < 0.05 else 'No'}\\n\")"
   ]
  },
  {
   "cell_type": "markdown",
   "id": "1b1f725d",
   "metadata": {},
   "source": [
    "#### 4. STATISTICAL TESTING"
   ]
  },
  {
   "cell_type": "code",
   "execution_count": 16,
   "id": "79319676",
   "metadata": {},
   "outputs": [
    {
     "name": "stdout",
     "output_type": "stream",
     "text": [
      "Conversion Rate Analysis:\n",
      "  Control: 17489/145274 = 0.1204 (12.04%)\n",
      "  Treatment: 17264/145310 = 0.1188 (11.88%)\n",
      "\n",
      "Statistical Test Results:\n",
      "  Absolute difference: -0.0016 (-0.16 percentage points)\n",
      "  Relative lift: -1.31%\n",
      "  Z-statistic: 1.3109\n",
      "  P-value: 0.1899\n",
      "  95% CI: [-0.0039, 0.0008]\n",
      "  Effect size (Cohen's h): -0.0049\n",
      "  Result: ❌ Not Statistically Significant\n"
     ]
    }
   ],
   "source": [
    "def run_conversion_test(df, treatment_col='con_treat', conversion_col='converted'):\n",
    "    \"\"\"Run comprehensive conversion rate test\"\"\"\n",
    "    \n",
    "    # Separate groups\n",
    "    control_data = df[df[treatment_col] == 'control']\n",
    "    treatment_data = df[df[treatment_col] == 'treatment']\n",
    "    \n",
    "    # Calculate basic metrics\n",
    "    control_conversions = control_data[conversion_col].sum()\n",
    "    control_total = len(control_data)\n",
    "    treatment_conversions = treatment_data[conversion_col].sum()\n",
    "    treatment_total = len(treatment_data)\n",
    "    \n",
    "    control_rate = control_conversions / control_total\n",
    "    treatment_rate = treatment_conversions / treatment_total\n",
    "    \n",
    "    print(f\"Conversion Rate Analysis:\")\n",
    "    print(f\"  Control: {control_conversions}/{control_total} = {control_rate:.4f} ({control_rate*100:.2f}%)\")\n",
    "    print(f\"  Treatment: {treatment_conversions}/{treatment_total} = {treatment_rate:.4f} ({treatment_rate*100:.2f}%)\")\n",
    "    \n",
    "    # Z-test for proportions\n",
    "    from statsmodels.stats.proportion import proportions_ztest, proportion_confint\n",
    "    \n",
    "    conversions = np.array([control_conversions, treatment_conversions])\n",
    "    nobs = np.array([control_total, treatment_total])\n",
    "    \n",
    "    z_stat, p_value = proportions_ztest(conversions, nobs)\n",
    "    \n",
    "    # Effect size (Cohen's h)\n",
    "    h = 2 * (np.arcsin(np.sqrt(treatment_rate)) - np.arcsin(np.sqrt(control_rate)))\n",
    "    \n",
    "    # Confidence interval for difference\n",
    "    pooled_rate = (control_conversions + treatment_conversions) / (control_total + treatment_total)\n",
    "    se_diff = np.sqrt(pooled_rate * (1 - pooled_rate) * (1/control_total + 1/treatment_total))\n",
    "    \n",
    "    diff = treatment_rate - control_rate\n",
    "    ci_lower = diff - 1.96 * se_diff\n",
    "    ci_upper = diff + 1.96 * se_diff\n",
    "    \n",
    "    # Relative lift\n",
    "    relative_lift = (treatment_rate - control_rate) / control_rate * 100\n",
    "    \n",
    "    print(f\"\\nStatistical Test Results:\")\n",
    "    print(f\"  Absolute difference: {diff:.4f} ({diff*100:.2f} percentage points)\")\n",
    "    print(f\"  Relative lift: {relative_lift:.2f}%\")\n",
    "    print(f\"  Z-statistic: {z_stat:.4f}\")\n",
    "    print(f\"  P-value: {p_value:.4f}\")\n",
    "    print(f\"  95% CI: [{ci_lower:.4f}, {ci_upper:.4f}]\")\n",
    "    print(f\"  Effect size (Cohen's h): {h:.4f}\")\n",
    "    print(f\"  Result: {'✅ Statistically Significant' if p_value < 0.05 else '❌ Not Statistically Significant'}\")\n",
    "    \n",
    "    return {\n",
    "        'control_rate': control_rate,\n",
    "        'treatment_rate': treatment_rate,\n",
    "        'difference': diff,\n",
    "        'relative_lift': relative_lift,\n",
    "        'z_statistic': z_stat,\n",
    "        'p_value': p_value,\n",
    "        'ci_lower': ci_lower,\n",
    "        'ci_upper': ci_upper,\n",
    "        'effect_size': h,\n",
    "        'significant': p_value < 0.05\n",
    "    }\n",
    "\n",
    "# Run the main test\n",
    "results = run_conversion_test(df)\n",
    "\n",
    "# Save conversion test results\n",
    "with open('results/conversion_test_results.txt', 'w') as f:\n",
    "    f.write(f\"Control Rate: {results['control_rate']:.6f}\\n\")\n",
    "    f.write(f\"Treatment Rate: {results['treatment_rate']:.6f}\\n\")\n",
    "    f.write(f\"Absolute Difference: {results['difference']:.6f}\\n\")\n",
    "    f.write(f\"Relative Lift: {results['relative_lift']:.2f}%\\n\")\n",
    "    f.write(f\"Z-statistic: {results['z_statistic']:.4f}\\n\")\n",
    "    f.write(f\"P-value: {results['p_value']:.6f}\\n\")\n",
    "    f.write(f\"95% CI: [{results['ci_lower']:.6f}, {results['ci_upper']:.6f}]\\n\")\n",
    "    f.write(f\"Effect Size: {results['effect_size']:.4f}\\n\")\n",
    "    f.write(f\"Significant: {results['significant']}\\n\")"
   ]
  },
  {
   "cell_type": "code",
   "execution_count": 17,
   "id": "23d25fa6",
   "metadata": {},
   "outputs": [
    {
     "name": "stdout",
     "output_type": "stream",
     "text": [
      "\n",
      "Power Analysis:\n",
      "  Effect size (Cohen's h): -0.0049\n",
      "  Achieved power: 0.2587 (25.9%)\n"
     ]
    }
   ],
   "source": [
    "# Power analysis (post-hoc)\n",
    "from statsmodels.stats.power import NormalIndPower\n",
    "import numpy as np\n",
    "\n",
    "def power_analysis(control_rate, treatment_rate, n_control, n_treatment, alpha=0.05):\n",
    "    \"\"\"\n",
    "    Calculate achieved power of the test for two proportions (post-hoc).\n",
    "    \"\"\"\n",
    "    # Calculate effect size using Cohen's h\n",
    "    def cohen_h(p1, p2):\n",
    "        return 2 * np.arcsin(np.sqrt(p1)) - 2 * np.arcsin(np.sqrt(p2))\n",
    "    \n",
    "    effect_size = cohen_h(treatment_rate, control_rate)\n",
    "    nobs = min(n_control, n_treatment)  # Conservative: use smaller group size\n",
    "\n",
    "    # Power calculation\n",
    "    power = NormalIndPower().power(\n",
    "        effect_size=effect_size,\n",
    "        nobs1=nobs,\n",
    "        alpha=alpha,\n",
    "        ratio=n_treatment / n_control,\n",
    "        alternative='two-sided'\n",
    "    )\n",
    "\n",
    "    print(f\"\\nPower Analysis:\")\n",
    "    print(f\"  Effect size (Cohen's h): {effect_size:.4f}\")\n",
    "    print(f\"  Achieved power: {power:.4f} ({power*100:.1f}%)\")\n",
    "    return power\n",
    "\n",
    "power = power_analysis(results['control_rate'], results['treatment_rate'], \n",
    "                      len(df[df['con_treat'] == 'control']), \n",
    "                      len(df[df['con_treat'] == 'treatment']))\n",
    "\n",
    "# Save power analysis\n",
    "with open('results/power_analysis.txt', 'w') as f:\n",
    "    f.write(f\"Power: {power:.4f}\\n\")"
   ]
  },
  {
   "cell_type": "markdown",
   "id": "51d6a8c6",
   "metadata": {},
   "source": [
    "#### 5. ADVANCED ANALYSIS WITH SESSION DURATION "
   ]
  },
  {
   "cell_type": "code",
   "execution_count": 18,
   "id": "df24841a",
   "metadata": {},
   "outputs": [
    {
     "name": "stdout",
     "output_type": "stream",
     "text": [
      "CUPED Analysis (Variance Reduction):\n",
      "  Covariance(duration, conversion): -0.297951\n",
      "  Variance(duration): 1077503.13\n",
      "  Optimal theta: -0.000000\n",
      "  Original outcome variance: 0.105294\n",
      "  CUPED outcome variance: 0.105294\n",
      "  Variance reduction: 0.00%\n",
      "  CUPED t-statistic: 1.3117\n",
      "  CUPED p-value: 0.1896\n",
      "  Improvement in precision: 0.0% variance reduction\n"
     ]
    }
   ],
   "source": [
    "# CUPED implementation using session duration as covariate\n",
    "def apply_cuped_with_duration(df, treatment_col='treatment', outcome_col='converted', covariate_col='time_seconds'):\n",
    "    \"\"\"Apply CUPED using session duration as pre-treatment covariate\"\"\"\n",
    "    \n",
    "    print(f\"CUPED Analysis (Variance Reduction):\")\n",
    "    \n",
    "    # Calculate theta (optimal coefficient)\n",
    "    cov_xy = np.cov(df[covariate_col], df[outcome_col])[0,1]\n",
    "    var_x = np.var(df[covariate_col])\n",
    "    theta = cov_xy / var_x\n",
    "    \n",
    "    print(f\"  Covariance(duration, conversion): {cov_xy:.6f}\")\n",
    "    print(f\"  Variance(duration): {var_x:.2f}\")\n",
    "    print(f\"  Optimal theta: {theta:.6f}\")\n",
    "    \n",
    "    # Calculate CUPED-adjusted outcome\n",
    "    x_mean = df[covariate_col].mean()\n",
    "    df['cuped_outcome'] = df[outcome_col] - theta * (df[covariate_col] - x_mean)\n",
    "    \n",
    "    # Compare variance reduction\n",
    "    original_var = np.var(df[outcome_col])\n",
    "    cuped_var = np.var(df['cuped_outcome'])\n",
    "    variance_reduction = (original_var - cuped_var) / original_var * 100\n",
    "    \n",
    "    print(f\"  Original outcome variance: {original_var:.6f}\")\n",
    "    print(f\"  CUPED outcome variance: {cuped_var:.6f}\")\n",
    "    print(f\"  Variance reduction: {variance_reduction:.2f}%\")\n",
    "    \n",
    "    # Run t-test on CUPED-adjusted outcomes\n",
    "    control_cuped = df[df[treatment_col] == 0]['cuped_outcome']\n",
    "    treatment_cuped = df[df[treatment_col] == 1]['cuped_outcome']\n",
    "    \n",
    "    t_stat, p_value = stats.ttest_ind(control_cuped, treatment_cuped)\n",
    "    \n",
    "    print(f\"  CUPED t-statistic: {t_stat:.4f}\")\n",
    "    print(f\"  CUPED p-value: {p_value:.4f}\")\n",
    "    print(f\"  Improvement in precision: {variance_reduction:.1f}% variance reduction\")\n",
    "    \n",
    "    return {\n",
    "        'theta': theta,\n",
    "        'variance_reduction': variance_reduction,\n",
    "        't_statistic': t_stat,\n",
    "        'p_value': p_value,\n",
    "        'control_mean': control_cuped.mean(),\n",
    "        'treatment_mean': treatment_cuped.mean()\n",
    "    }\n",
    "\n",
    "cuped_results = apply_cuped_with_duration(df)\n",
    "\n",
    "# Save CUPED results\n",
    "with open('results/cuped_results.txt', 'w') as f:\n",
    "    f.write(f\"Variance Reduction: {cuped_results['variance_reduction']:.2f}%\\n\")\n",
    "    f.write(f\"CUPED p-value: {cuped_results['p_value']:.6f}\\n\")"
   ]
  },
  {
   "cell_type": "code",
   "execution_count": 19,
   "id": "80970484",
   "metadata": {},
   "outputs": [
    {
     "name": "stdout",
     "output_type": "stream",
     "text": [
      "\n",
      "Heterogeneous Treatment Effects Analysis:\n",
      "  Q1: Control=0.1227, Treatment=0.1182, Effect=-0.0045, p=0.0599, n=72654\n",
      "  Q2: Control=0.1193, Treatment=0.1175, Effect=-0.0019, p=0.4293, n=72642\n",
      "  Q3: Control=0.1202, Treatment=0.1220, Effect=0.0018, p=0.4464, n=72646\n",
      "  Q4: Control=0.1193, Treatment=0.1176, Effect=-0.0017, p=0.4683, n=72642\n"
     ]
    }
   ],
   "source": [
    "# Heterogeneous treatment effects by session duration\n",
    "def analyze_heterogeneous_effects(df):\n",
    "    \"\"\"Analyze if treatment effect varies by session duration\"\"\"\n",
    "    \n",
    "    print(f\"\\nHeterogeneous Treatment Effects Analysis:\")\n",
    "    \n",
    "    # Create duration quartiles\n",
    "    df['duration_quartile'] = pd.qcut(df['time_seconds'], q=4, labels=['Q1', 'Q2', 'Q3', 'Q4'])\n",
    "    \n",
    "    het_results = {}\n",
    "    for quartile in ['Q1', 'Q2', 'Q3', 'Q4']:\n",
    "        subset = df[df['duration_quartile'] == quartile]\n",
    "        \n",
    "        control_rate = subset[subset['con_treat'] == 'control']['converted'].mean()\n",
    "        treatment_rate = subset[subset['con_treat'] == 'treatment']['converted'].mean()\n",
    "        \n",
    "        # Statistical test for this quartile\n",
    "        control_conv = subset[subset['con_treat'] == 'control']['converted'].sum()\n",
    "        control_total = len(subset[subset['con_treat'] == 'control'])\n",
    "        treatment_conv = subset[subset['con_treat'] == 'treatment']['converted'].sum()\n",
    "        treatment_total = len(subset[subset['con_treat'] == 'treatment'])\n",
    "        \n",
    "        if control_total > 0 and treatment_total > 0:\n",
    "            from statsmodels.stats.proportion import proportions_ztest\n",
    "            conversions = np.array([control_conv, treatment_conv])\n",
    "            nobs = np.array([control_total, treatment_total])\n",
    "            z_stat, p_val = proportions_ztest(conversions, nobs)\n",
    "            \n",
    "            effect = treatment_rate - control_rate\n",
    "            het_results[quartile] = {\n",
    "                'control_rate': control_rate,\n",
    "                'treatment_rate': treatment_rate,\n",
    "                'effect': effect,\n",
    "                'p_value': p_val,\n",
    "                'sample_size': control_total + treatment_total\n",
    "            }\n",
    "            \n",
    "            print(f\"  {quartile}: Control={control_rate:.4f}, Treatment={treatment_rate:.4f}, \"\n",
    "                  f\"Effect={effect:.4f}, p={p_val:.4f}, n={control_total + treatment_total}\")\n",
    "    \n",
    "    return het_results\n",
    "\n",
    "het_effects = analyze_heterogeneous_effects(df)\n",
    "\n",
    "# Save heterogeneous effects\n",
    "het_df = pd.DataFrame(het_effects).T\n",
    "het_df.to_csv('results/heterogeneous_effects.csv')"
   ]
  },
  {
   "cell_type": "code",
   "execution_count": 20,
   "id": "f1350eb7",
   "metadata": {},
   "outputs": [
    {
     "name": "stdout",
     "output_type": "stream",
     "text": [
      "\n",
      "Interaction Effects Analysis:\n",
      "  Logistic Regression Coefficients:\n",
      "    Treatment effect: -0.0143\n",
      "    Duration effect: -0.0084\n",
      "    Interaction effect: 0.0112\n",
      "  Result: ✅ No strong interaction detected\n"
     ]
    }
   ],
   "source": [
    "# Interaction effects model\n",
    "def interaction_analysis(df):\n",
    "    \"\"\"Test for interaction between treatment and session duration\"\"\"\n",
    "    \n",
    "    print(f\"\\nInteraction Effects Analysis:\")\n",
    "    \n",
    "    from sklearn.linear_model import LogisticRegression\n",
    "    from sklearn.preprocessing import StandardScaler\n",
    "    \n",
    "    # Prepare features\n",
    "    scaler = StandardScaler()\n",
    "    duration_scaled = scaler.fit_transform(df[['time_seconds']])\n",
    "    \n",
    "    # Create interaction term\n",
    "    X = np.column_stack([\n",
    "        df['treatment'].values,                    # Treatment indicator\n",
    "        duration_scaled.flatten(),                 # Standardized duration  \n",
    "        df['treatment'].values * duration_scaled.flatten()  # Interaction term\n",
    "    ])\n",
    "    \n",
    "    y = df['converted'].values\n",
    "    \n",
    "    # Fit logistic regression\n",
    "    model = LogisticRegression()\n",
    "    model.fit(X, y)\n",
    "    \n",
    "    coefficients = model.coef_[0]\n",
    "    \n",
    "    print(f\"  Logistic Regression Coefficients:\")\n",
    "    print(f\"    Treatment effect: {coefficients[0]:.4f}\")\n",
    "    print(f\"    Duration effect: {coefficients[1]:.4f}\")\n",
    "    print(f\"    Interaction effect: {coefficients[2]:.4f}\")\n",
    "    \n",
    "    # Statistical significance of interaction (approximate)\n",
    "    # Note: For proper inference, should use statsmodels for standard errors\n",
    "    interaction_strength = abs(coefficients[2])\n",
    "    if interaction_strength > 0.1:  # Arbitrary threshold\n",
    "        print(f\"  Result: 🔍 Potential interaction detected (coef={coefficients[2]:.4f})\")\n",
    "    else:\n",
    "        print(f\"  Result: ✅ No strong interaction detected\")\n",
    "    \n",
    "    return coefficients\n",
    "\n",
    "interaction_coefs = interaction_analysis(df)\n",
    "\n",
    "# Save interaction coefficients\n",
    "with open('results/interaction_coefficients.txt', 'w') as f:\n",
    "    f.write(f\"Treatment Coefficient: {interaction_coefs[0]:.6f}\\n\")\n",
    "    f.write(f\"Duration Coefficient: {interaction_coefs[1]:.6f}\\n\")\n",
    "    f.write(f\"Interaction Coefficient: {interaction_coefs[2]:.6f}\\n\")"
   ]
  },
  {
   "cell_type": "code",
   "execution_count": 21,
   "id": "adf0895e",
   "metadata": {},
   "outputs": [
    {
     "name": "stdout",
     "output_type": "stream",
     "text": [
      "Contingency Table:\n",
      "converted       0      1\n",
      "con_treat               \n",
      "control    127785  17489\n",
      "treatment  128046  17264\n",
      "\n",
      "Chi-square Test:\n",
      "  Chi-square statistic: 1.7036\n",
      "  P-value: 0.1918\n",
      "  Degrees of freedom: 1\n"
     ]
    }
   ],
   "source": [
    "# Chi-square test for independence\n",
    "def chi_square_test(df):\n",
    "    \"\"\"Chi-square test for independence\"\"\"\n",
    "    contingency_table = pd.crosstab(df['con_treat'], df['converted'])\n",
    "    print(f\"Contingency Table:\")\n",
    "    print(contingency_table)\n",
    "    \n",
    "    chi2_stat, p_val, dof, expected = chi2_contingency(contingency_table)\n",
    "    \n",
    "    print(f\"\\nChi-square Test:\")\n",
    "    print(f\"  Chi-square statistic: {chi2_stat:.4f}\")\n",
    "    print(f\"  P-value: {p_val:.4f}\")\n",
    "    print(f\"  Degrees of freedom: {dof}\")\n",
    "    \n",
    "    return chi2_stat, p_val\n",
    "\n",
    "chi2_stat, chi2_p = chi_square_test(df)\n",
    "\n",
    "# Save chi-square results\n",
    "with open('results/chi_square_results.txt', 'w') as f:\n",
    "    f.write(f\"Chi-square p-value: {chi2_p:.6f}\\n\")"
   ]
  },
  {
   "cell_type": "code",
   "execution_count": 22,
   "id": "e6c07829",
   "metadata": {},
   "outputs": [
    {
     "name": "stdout",
     "output_type": "stream",
     "text": [
      "\n",
      "Bayesian Analysis:\n",
      "  P(Treatment > Control): 0.0950 (9.5%)\n"
     ]
    }
   ],
   "source": [
    "# Bayesian approach (simple Beta-Binomial)\n",
    "def bayesian_analysis(df, prior_alpha=1, prior_beta=1):\n",
    "    \"\"\"Simple Bayesian analysis with Beta priors\"\"\"\n",
    "    control_data = df[df['con_treat'] == 'control']\n",
    "    treatment_data = df[df['con_treat'] == 'treatment']\n",
    "    \n",
    "    # Posterior parameters\n",
    "    control_successes = control_data['converted'].sum()\n",
    "    control_failures = len(control_data) - control_successes\n",
    "    \n",
    "    treatment_successes = treatment_data['converted'].sum()\n",
    "    treatment_failures = len(treatment_data) - treatment_successes\n",
    "    \n",
    "    # Beta posterior parameters\n",
    "    control_alpha_post = prior_alpha + control_successes\n",
    "    control_beta_post = prior_beta + control_failures\n",
    "    \n",
    "    treatment_alpha_post = prior_alpha + treatment_successes\n",
    "    treatment_beta_post = prior_beta + treatment_failures\n",
    "    \n",
    "    # Monte Carlo simulation for probability that treatment > control\n",
    "    n_samples = 100000\n",
    "    control_samples = np.random.beta(control_alpha_post, control_beta_post, n_samples)\n",
    "    treatment_samples = np.random.beta(treatment_alpha_post, treatment_beta_post, n_samples)\n",
    "    \n",
    "    prob_treatment_better = np.mean(treatment_samples > control_samples)\n",
    "    \n",
    "    print(f\"\\nBayesian Analysis:\")\n",
    "    print(f\"  P(Treatment > Control): {prob_treatment_better:.4f} ({prob_treatment_better*100:.1f}%)\")\n",
    "    \n",
    "    return prob_treatment_better\n",
    "\n",
    "prob_better = bayesian_analysis(df)\n",
    "\n",
    "# Save Bayesian results\n",
    "with open('results/bayesian_results.txt', 'w') as f:\n",
    "    f.write(f\"Probability Treatment Better: {prob_better:.4f}\\n\")"
   ]
  },
  {
   "cell_type": "markdown",
   "id": "6c3fdc24",
   "metadata": {},
   "source": [
    "#### 6. BUSINESS IMPACT ANALYSIS"
   ]
  },
  {
   "cell_type": "code",
   "execution_count": 23,
   "id": "9f4e0b51",
   "metadata": {},
   "outputs": [
    {
     "name": "stdout",
     "output_type": "stream",
     "text": [
      "Business Impact Analysis:\n",
      "  Assumptions: 50,000 daily users, $75 AOV\n",
      "  Daily additional conversions: -79\n",
      "  Daily revenue impact: $-5,918\n",
      "  Daily revenue 95% CI: [$-14,767, $2,930]\n",
      "  Annual revenue impact: $-2,160,215\n",
      "  Downside risk (annual): $5,390,013\n"
     ]
    }
   ],
   "source": [
    "def business_impact_analysis(results, daily_users=50000, avg_order_value=75):\n",
    "    \"\"\"Calculate business impact\"\"\"\n",
    "    \n",
    "    # Daily impact\n",
    "    daily_additional_conversions = daily_users * results['difference']\n",
    "    daily_revenue_impact = daily_additional_conversions * avg_order_value\n",
    "    \n",
    "    # Annual impact\n",
    "    annual_additional_conversions = daily_additional_conversions * 365\n",
    "    annual_revenue_impact = daily_revenue_impact * 365\n",
    "    \n",
    "    # Confidence interval for revenue impact\n",
    "    daily_revenue_ci_lower = daily_users * results['ci_lower'] * avg_order_value\n",
    "    daily_revenue_ci_upper = daily_users * results['ci_upper'] * avg_order_value\n",
    "    \n",
    "    print(f\"Business Impact Analysis:\")\n",
    "    print(f\"  Assumptions: {daily_users:,} daily users, ${avg_order_value} AOV\")  # Changed € to $\n",
    "    print(f\"  Daily additional conversions: {daily_additional_conversions:.0f}\")\n",
    "    print(f\"  Daily revenue impact: ${daily_revenue_impact:,.0f}\")  # Changed € to $\n",
    "    print(f\"  Daily revenue 95% CI: [${daily_revenue_ci_lower:,.0f}, ${daily_revenue_ci_upper:,.0f}]\")  # Changed € to $\n",
    "    print(f\"  Annual revenue impact: ${annual_revenue_impact:,.0f}\")  # Changed € to $\n",
    "    \n",
    "    # Risk assessment\n",
    "    if results['ci_lower'] < 0:\n",
    "        downside_risk = abs(daily_users * results['ci_lower'] * avg_order_value) * 365\n",
    "        print(f\"  Downside risk (annual): ${downside_risk:,.0f}\")  # Changed € to $\n",
    "    \n",
    "    return {\n",
    "        'daily_conversions': daily_additional_conversions,\n",
    "        'daily_revenue': daily_revenue_impact,\n",
    "        'annual_revenue': annual_revenue_impact\n",
    "    }\n",
    "\n",
    "business_impact = business_impact_analysis(results)\n",
    "\n",
    "# Save business impact\n",
    "with open('results/business_impact.txt', 'w') as f:\n",
    "    f.write(f\"Daily Conversions: {business_impact['daily_conversions']:.2f}\\n\")\n",
    "    f.write(f\"Daily Revenue: €{business_impact['daily_revenue']:,.2f}\\n\")\n",
    "    f.write(f\"Annual Revenue: €{business_impact['annual_revenue']:,.2f}\\n\")"
   ]
  },
  {
   "cell_type": "markdown",
   "id": "7a6977c1",
   "metadata": {},
   "source": [
    "#### 7. FINAL RECOMMENDATION"
   ]
  },
  {
   "cell_type": "code",
   "execution_count": 24,
   "id": "d004bfbf",
   "metadata": {},
   "outputs": [
    {
     "name": "stdout",
     "output_type": "stream",
     "text": [
      "Decision Criteria:\n",
      "  ✅ Statistical significance (p < 0.05): False\n",
      "  ✅ Practical significance (>1% abs diff): False\n",
      "  ✅ Business significance (>€100k annual): True\n",
      "  ✅ Bayesian confidence (>95%): False\n",
      "\n",
      "RECOMMENDATION: ❌ DO NOT PROCEED: Insufficient evidence\n",
      "CONFIDENCE LEVEL: Low\n",
      "\n",
      "Next Steps:\n",
      "  1. Analyze why treatment didn't work\n",
      "  2. Consider alternative treatments\n",
      "  3. Review experimental design\n"
     ]
    }
   ],
   "source": [
    "def make_recommendation(results, business_impact, prob_better):\n",
    "    \"\"\"Generate final recommendation\"\"\"\n",
    "    \n",
    "    # Criteria for recommendation\n",
    "    statistical_significance = results['p_value'] < 0.05\n",
    "    practical_significance = abs(results['difference']) > 0.01  # 1% absolute improvement\n",
    "    business_significance = abs(business_impact['annual_revenue']) > 100000  # €100k annual impact\n",
    "    bayesian_confidence = prob_better > 0.95  # 95% probability\n",
    "    \n",
    "    print(f\"Decision Criteria:\")\n",
    "    print(f\"  ✅ Statistical significance (p < 0.05): {statistical_significance}\")\n",
    "    print(f\"  ✅ Practical significance (>1% abs diff): {practical_significance}\")\n",
    "    print(f\"  ✅ Business significance (>€100k annual): {business_significance}\")\n",
    "    print(f\"  ✅ Bayesian confidence (>95%): {bayesian_confidence}\")\n",
    "    \n",
    "    if statistical_significance and practical_significance and business_significance:\n",
    "        recommendation = \"🚀 STRONG RECOMMEND: Roll out the new page\"\n",
    "        confidence = \"High\"\n",
    "    elif statistical_significance and (practical_significance or business_significance):\n",
    "        recommendation = \"⚠️ CAUTIOUS PROCEED: Consider gradual rollout\"\n",
    "        confidence = \"Medium\"\n",
    "    else:\n",
    "        recommendation = \"❌ DO NOT PROCEED: Insufficient evidence\"\n",
    "        confidence = \"Low\"\n",
    "    \n",
    "    print(f\"\\nRECOMMENDATION: {recommendation}\")\n",
    "    print(f\"CONFIDENCE LEVEL: {confidence}\")\n",
    "    \n",
    "    # Next steps\n",
    "    print(f\"\\nNext Steps:\")\n",
    "    if statistical_significance:\n",
    "        print(\"  1. Plan implementation timeline\")\n",
    "        print(\"  2. Monitor key metrics post-launch\")\n",
    "        print(\"  3. Consider segmented analysis\")\n",
    "    else:\n",
    "        print(\"  1. Analyze why treatment didn't work\")\n",
    "        print(\"  2. Consider alternative treatments\")\n",
    "        print(\"  3. Review experimental design\")\n",
    "    \n",
    "    return recommendation, confidence\n",
    "\n",
    "rec, conf = make_recommendation(results, business_impact, prob_better)\n",
    "\n",
    "# Save recommendation\n",
    "with open('results/recommendation.txt', 'w') as f:\n",
    "    f.write(f\"Recommendation: {rec}\\n\")\n",
    "    f.write(f\"Confidence: {conf}\\n\")"
   ]
  },
  {
   "cell_type": "markdown",
   "id": "c4018496",
   "metadata": {},
   "source": [
    "#### 8. DIAGNOSTIC VISUALIZATIONS"
   ]
  },
  {
   "cell_type": "code",
   "execution_count": 25,
   "id": "313d81b0",
   "metadata": {},
   "outputs": [
    {
     "data": {
      "image/png": "[encoded data removed]",
      "text/plain": [
       "<Figure size 1500x1000 with 4 Axes>"
      ]
     },
     "metadata": {},
     "output_type": "display_data"
    }
   ],
   "source": [
    "fig, axes = plt.subplots(2, 2, figsize=(15, 10))\n",
    "\n",
    "# 1. Conversion rates by group\n",
    "conversion_rates = [results['control_rate'], results['treatment_rate']]\n",
    "groups = ['Control (Old Page)', 'Treatment (New Page)']\n",
    "axes[0,0].bar(groups, conversion_rates, color=['skyblue', 'lightcoral'])\n",
    "axes[0,0].set_title('Conversion Rates by Group')\n",
    "axes[0,0].set_ylabel('Conversion Rate')\n",
    "for i, v in enumerate(conversion_rates):\n",
    "    axes[0,0].text(i, v + 0.001, f'{v:.3f}', ha='center')\n",
    "    \n",
    "# 2. Session duration distributions\n",
    "df.boxplot(column='time_seconds', by='con_treat', ax=axes[0,1])\n",
    "axes[0,1].set_title('Session Duration by Group')\n",
    "axes[0,1].set_ylabel('Duration (seconds)')\n",
    "\n",
    "# 3. Conversion by session duration bins\n",
    "if 'time_bin_analysis' in locals():\n",
    "    time_bin_analysis.plot(ax=axes[1,0], title='Conversion Rates by Session Duration')\n",
    "    axes[1,0].set_ylabel('Conversion Rate')\n",
    "    axes[1,0].set_xlabel('Session Duration Bin')\n",
    "    axes[1,0].tick_params(axis='x', rotation=45)\n",
    "    \n",
    "# 4. Page type distribution\n",
    "page_dist = df.groupby(['page', 'con_treat']).size().unstack()\n",
    "page_dist.plot(kind='bar', ax=axes[1,1], title='Page Type Distribution')\n",
    "axes[1,1].set_ylabel('Number of Users')\n",
    "axes[1,1].tick_params(axis='x', rotation=45)\n",
    "\n",
    "plt.tight_layout()\n",
    "plt.savefig('plots/diagnostic_plots.png')\n",
    "plt.show()"
   ]
  },
  {
   "cell_type": "markdown",
   "id": "518fcee5",
   "metadata": {},
   "source": [
    "#### 9. GENERATE EXECUTIVE REPORT USING LLM (MISTRAL) "
   ]
  },
  {
   "cell_type": "code",
   "execution_count": 26,
   "id": "55474753",
   "metadata": {},
   "outputs": [
    {
     "name": "stdout",
     "output_type": "stream",
     "text": [
      "\n",
      "Generating executive report...\n",
      "Executive report generated:\n",
      "- reports/ab_test_report.md\n",
      "- reports/ab_test_executive_report.pdf\n",
      "\n",
      "============================================================\n",
      "ANALYSIS COMPLETE - RESULTS AND REPORT SAVED\n",
      "============================================================\n"
     ]
    }
   ],
   "source": [
    "# Generate executive report using LLM\n",
    "def generate_executive_report():\n",
    "    \"\"\"Generate PDF report using LLM\"\"\"\n",
    "    print(\"\\nGenerating executive report...\")\n",
    "    \n",
    "    # Collect key metrics for the prompt\n",
    "    prompt = f\"\"\"\n",
    "    You are a senior data analyst preparing an executive report for an A/B test. \n",
    "    Below are the key findings from the analysis:\n",
    "\n",
    "    **Conversion Rates:**\n",
    "    - Control Group: {results['control_rate']:.4f}\n",
    "    - Treatment Group: {results['treatment_rate']:.4f}\n",
    "    - Absolute Difference: {results['difference']:.4f}\n",
    "    - Relative Lift: {results['relative_lift']:.2f}%\n",
    "    - P-value: {results['p_value']:.6f} {'(Statistically Significant)' if results['significant'] else ''}\n",
    "\n",
    "    **Business Impact:**\n",
    "    - Estimated Annual Revenue Impact: ${business_impact['annual_revenue']:,.0f}  # Changed € to $\n",
    "    - Daily Additional Conversions: {business_impact['daily_conversions']:.0f}\n",
    "\n",
    "    **Key Diagnostics:**\n",
    "    - Sample Ratio Mismatch: {'Detected' if srm_p < 0.05 else 'Not detected'}\n",
    "    - Bayesian Probability (Treatment > Control): {prob_better:.2%}\n",
    "    - Power: {power:.2%}\n",
    "    - Recommendation: {rec} ({conf} confidence)\n",
    "\n",
    "    **Additional Insights:**\n",
    "    - Session duration vs. conversion correlation: {duration_conversion_corr:.4f}\n",
    "    - Heterogeneous effects observed across session duration quartiles\n",
    "    - CUPED variance reduction: {cuped_results['variance_reduction']:.1f}%\n",
    "\n",
    "    **Plots Available:**\n",
    "    - diagnostic_plots.png: Summary of key visualizations\n",
    "\n",
    "    **Task:**\n",
    "    Create a comprehensive executive report in markdown format with the following sections:\n",
    "    1. Introduction: Brief overview of the A/B test\n",
    "    2. Key Findings: Summary of conversion rates and statistical significance\n",
    "    3. Business Impact: Revenue projections and risk assessment\n",
    "    4. Diagnostic Checks: SRM, power analysis, and data quality\n",
    "    5. Advanced Insights: Session duration effects, heterogeneous treatment effects\n",
    "    6. Recommendation: Clear next steps based on analysis\n",
    "    7. Appendix: Mention availability of detailed technical reports\n",
    "\n",
    "    Focus on:\n",
    "    - Clear, non-technical language for executives\n",
    "    - Actionable insights with data-driven justification\n",
    "    - Balanced view of benefits and risks\n",
    "    - Visual description of key plots (since images can't be embedded)\n",
    "    - Limitations and suggested next steps\n",
    "    \"\"\"\n",
    "    \n",
    "    # Generate report content using LLM\n",
    "    response = ollama.chat(\n",
    "        model='mistral',\n",
    "        messages=[{\n",
    "            'role': 'user',\n",
    "            'content': prompt\n",
    "        }]\n",
    "    )\n",
    "    \n",
    "    report_content = response['message']['content']\n",
    "    \n",
    "    # Save markdown report\n",
    "    with open('results/ab_test_report.md', 'w', encoding='utf-8') as f:\n",
    "        f.write(report_content)\n",
    "    \n",
    "    # Create PDF with proper encoding\n",
    "    pdf = FPDF()\n",
    "    pdf.add_page()\n",
    "    pdf.set_font(\"Arial\", size=12)\n",
    "    \n",
    "    # Convert markdown to plain text with HTML escaping\n",
    "    plain_text = html.unescape(report_content)  # Handle HTML entities\n",
    "    plain_text = plain_text.replace('•', '-')   # Replace bullet points\n",
    "    plain_text = plain_text.replace('€', '$')   # Replace Euro symbols\n",
    "    \n",
    "    # Add content to PDF\n",
    "    pdf.multi_cell(0, 5, plain_text)\n",
    "    pdf.output('reports/ab_test_executive_report.pdf')\n",
    "    \n",
    "    print(\"Executive report generated:\")\n",
    "    print(\"- reports/ab_test_report.md\")\n",
    "    print(\"- reports/ab_test_executive_report.pdf\")\n",
    "\n",
    "# Generate the report\n",
    "generate_executive_report()\n",
    "\n",
    "print(\"\\n\" + \"=\"*60)\n",
    "print(\"ANALYSIS COMPLETE - RESULTS AND REPORT SAVED\")\n",
    "print(\"=\"*60)"
   ]
  }
 ],
 "metadata": {
  "kernelspec": {
   "display_name": "newenv",
   "language": "python",
   "name": "python3"
  },
  "language_info": {
   "codemirror_mode": {
    "name": "ipython",
    "version": 3
   },
   "file_extension": ".py",
   "mimetype": "text/x-python",
   "name": "python",
   "nbconvert_exporter": "python",
   "pygments_lexer": "ipython3",
   "version": "3.10.8"
  }
 },
 "nbformat": 4,
 "nbformat_minor": 5
}
